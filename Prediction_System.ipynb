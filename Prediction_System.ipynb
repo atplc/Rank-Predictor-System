{
  "nbformat": 4,
  "nbformat_minor": 0,
  "metadata": {
    "colab": {
      "name": "Prediction System.ipynb",
      "provenance": [],
      "collapsed_sections": []
    },
    "kernelspec": {
      "name": "python3",
      "display_name": "Python 3"
    },
    "language_info": {
      "name": "python"
    }
  },
  "cells": [
    {
      "cell_type": "markdown",
      "metadata": {
        "id": "ClX4sjcFSxCk"
      },
      "source": [
        "##**Importing Libraries**"
      ]
    },
    {
      "cell_type": "code",
      "metadata": {
        "id": "R1H82UDmlhGf"
      },
      "source": [
        "import pandas as pd\n",
        "import numpy as np\n",
        "import matplotlib.pyplot as plt\n",
        "%matplotlib inline\n",
        "import warnings\n",
        "warnings.filterwarnings('ignore')\n",
        "from pydrive.auth import GoogleAuth\n",
        "from pydrive.drive import GoogleDrive\n",
        "from google.colab import auth\n",
        "from oauth2client.client import GoogleCredentials"
      ],
      "execution_count": null,
      "outputs": []
    },
    {
      "cell_type": "code",
      "metadata": {
        "id": "ApqGtKX4xxnR"
      },
      "source": [
        "auth.authenticate_user()\n",
        "gauth = GoogleAuth()\n",
        "gauth.credentials = GoogleCredentials.get_application_default()\n",
        "drive = GoogleDrive(gauth)"
      ],
      "execution_count": null,
      "outputs": []
    },
    {
      "cell_type": "code",
      "metadata": {
        "id": "tIw2rBV44LfC"
      },
      "source": [
        "id = \"1UMj5HnWO1EfbJ_ZyYkMbVeQJZtIiexI7\""
      ],
      "execution_count": null,
      "outputs": []
    },
    {
      "cell_type": "code",
      "metadata": {
        "id": "rAT2EDbRxih8"
      },
      "source": [
        "imported = drive.CreateFile({'id': id})\n",
        "imported.GetContentFile('rank_predictor_dataset.csv')"
      ],
      "execution_count": null,
      "outputs": []
    },
    {
      "cell_type": "code",
      "metadata": {
        "colab": {
          "base_uri": "https://localhost:8080/",
          "height": 203
        },
        "id": "22gGmgpVxbXy",
        "outputId": "723895ed-c6a2-453c-b5d2-90d83a5837c8"
      },
      "source": [
        "data = pd.read_csv('rank_predictor_dataset.csv')\n",
        "data.head()"
      ],
      "execution_count": null,
      "outputs": [
        {
          "output_type": "execute_result",
          "data": {
            "text/html": [
              "<div>\n",
              "<style scoped>\n",
              "    .dataframe tbody tr th:only-of-type {\n",
              "        vertical-align: middle;\n",
              "    }\n",
              "\n",
              "    .dataframe tbody tr th {\n",
              "        vertical-align: top;\n",
              "    }\n",
              "\n",
              "    .dataframe thead th {\n",
              "        text-align: right;\n",
              "    }\n",
              "</style>\n",
              "<table border=\"1\" class=\"dataframe\">\n",
              "  <thead>\n",
              "    <tr style=\"text-align: right;\">\n",
              "      <th></th>\n",
              "      <th>JEE Main Percentile</th>\n",
              "      <th>JEE Main Rank</th>\n",
              "      <th>BCECE General Rank</th>\n",
              "    </tr>\n",
              "  </thead>\n",
              "  <tbody>\n",
              "    <tr>\n",
              "      <th>0</th>\n",
              "      <td>82</td>\n",
              "      <td>215750</td>\n",
              "      <td>2143.0</td>\n",
              "    </tr>\n",
              "    <tr>\n",
              "      <th>1</th>\n",
              "      <td>80</td>\n",
              "      <td>215776</td>\n",
              "      <td>2145.0</td>\n",
              "    </tr>\n",
              "    <tr>\n",
              "      <th>2</th>\n",
              "      <td>74</td>\n",
              "      <td>312314</td>\n",
              "      <td>30000.0</td>\n",
              "    </tr>\n",
              "    <tr>\n",
              "      <th>3</th>\n",
              "      <td>71</td>\n",
              "      <td>309124</td>\n",
              "      <td>3727.0</td>\n",
              "    </tr>\n",
              "    <tr>\n",
              "      <th>4</th>\n",
              "      <td>79.51</td>\n",
              "      <td>239776</td>\n",
              "      <td>2408.0</td>\n",
              "    </tr>\n",
              "  </tbody>\n",
              "</table>\n",
              "</div>"
            ],
            "text/plain": [
              "  JEE Main Percentile JEE Main Rank   BCECE General Rank\n",
              "0                  82        215750               2143.0\n",
              "1                  80        215776               2145.0\n",
              "2                  74        312314              30000.0\n",
              "3                  71        309124               3727.0\n",
              "4               79.51        239776               2408.0"
            ]
          },
          "metadata": {
            "tags": []
          },
          "execution_count": 5
        }
      ]
    },
    {
      "cell_type": "code",
      "metadata": {
        "id": "jpJBeCkyVl_j",
        "colab": {
          "base_uri": "https://localhost:8080/"
        },
        "outputId": "bb83eb89-86c7-4aad-fb2c-5927e25d5be7"
      },
      "source": [
        "data.info()"
      ],
      "execution_count": null,
      "outputs": [
        {
          "output_type": "stream",
          "text": [
            "<class 'pandas.core.frame.DataFrame'>\n",
            "RangeIndex: 190 entries, 0 to 189\n",
            "Data columns (total 3 columns):\n",
            " #   Column               Non-Null Count  Dtype  \n",
            "---  ------               --------------  -----  \n",
            " 0   JEE Main Percentile  90 non-null     object \n",
            " 1   JEE Main Rank        90 non-null     object \n",
            " 2    BCECE General Rank  90 non-null     float64\n",
            "dtypes: float64(1), object(2)\n",
            "memory usage: 4.6+ KB\n"
          ],
          "name": "stdout"
        }
      ]
    },
    {
      "cell_type": "markdown",
      "metadata": {
        "id": "hpruk61oS_kf"
      },
      "source": [
        "##**Data Preprocessing**"
      ]
    },
    {
      "cell_type": "code",
      "metadata": {
        "id": "AHGJaMidXSym",
        "colab": {
          "base_uri": "https://localhost:8080/"
        },
        "outputId": "1f638bf1-9c3e-46de-e94d-25607603e1cc"
      },
      "source": [
        "data.isnull().sum()"
      ],
      "execution_count": null,
      "outputs": [
        {
          "output_type": "execute_result",
          "data": {
            "text/plain": [
              "JEE Main Percentile    100\n",
              "JEE Main Rank          100\n",
              " BCECE General Rank    100\n",
              "dtype: int64"
            ]
          },
          "metadata": {
            "tags": []
          },
          "execution_count": 7
        }
      ]
    },
    {
      "cell_type": "code",
      "metadata": {
        "id": "wUk3aDKAgSHK",
        "colab": {
          "base_uri": "https://localhost:8080/",
          "height": 417
        },
        "outputId": "b45f5876-0bc9-47af-fbd1-6bc1eeb4c390"
      },
      "source": [
        "data.dropna(axis=0,inplace=True)\n",
        "data"
      ],
      "execution_count": null,
      "outputs": [
        {
          "output_type": "execute_result",
          "data": {
            "text/html": [
              "<div>\n",
              "<style scoped>\n",
              "    .dataframe tbody tr th:only-of-type {\n",
              "        vertical-align: middle;\n",
              "    }\n",
              "\n",
              "    .dataframe tbody tr th {\n",
              "        vertical-align: top;\n",
              "    }\n",
              "\n",
              "    .dataframe thead th {\n",
              "        text-align: right;\n",
              "    }\n",
              "</style>\n",
              "<table border=\"1\" class=\"dataframe\">\n",
              "  <thead>\n",
              "    <tr style=\"text-align: right;\">\n",
              "      <th></th>\n",
              "      <th>JEE Main Percentile</th>\n",
              "      <th>JEE Main Rank</th>\n",
              "      <th>BCECE General Rank</th>\n",
              "    </tr>\n",
              "  </thead>\n",
              "  <tbody>\n",
              "    <tr>\n",
              "      <th>0</th>\n",
              "      <td>82</td>\n",
              "      <td>215750</td>\n",
              "      <td>2143.0</td>\n",
              "    </tr>\n",
              "    <tr>\n",
              "      <th>1</th>\n",
              "      <td>80</td>\n",
              "      <td>215776</td>\n",
              "      <td>2145.0</td>\n",
              "    </tr>\n",
              "    <tr>\n",
              "      <th>2</th>\n",
              "      <td>74</td>\n",
              "      <td>312314</td>\n",
              "      <td>30000.0</td>\n",
              "    </tr>\n",
              "    <tr>\n",
              "      <th>3</th>\n",
              "      <td>71</td>\n",
              "      <td>309124</td>\n",
              "      <td>3727.0</td>\n",
              "    </tr>\n",
              "    <tr>\n",
              "      <th>4</th>\n",
              "      <td>79.51</td>\n",
              "      <td>239776</td>\n",
              "      <td>2408.0</td>\n",
              "    </tr>\n",
              "    <tr>\n",
              "      <th>...</th>\n",
              "      <td>...</td>\n",
              "      <td>...</td>\n",
              "      <td>...</td>\n",
              "    </tr>\n",
              "    <tr>\n",
              "      <th>85</th>\n",
              "      <td>71.76</td>\n",
              "      <td>355883</td>\n",
              "      <td>3537.0</td>\n",
              "    </tr>\n",
              "    <tr>\n",
              "      <th>86</th>\n",
              "      <td>80.8987154</td>\n",
              "      <td>207442</td>\n",
              "      <td>2116.0</td>\n",
              "    </tr>\n",
              "    <tr>\n",
              "      <th>87</th>\n",
              "      <td>38</td>\n",
              "      <td>700000</td>\n",
              "      <td>6500.0</td>\n",
              "    </tr>\n",
              "    <tr>\n",
              "      <th>88</th>\n",
              "      <td>40</td>\n",
              "      <td>153264</td>\n",
              "      <td>7683.0</td>\n",
              "    </tr>\n",
              "    <tr>\n",
              "      <th>89</th>\n",
              "      <td>53.9</td>\n",
              "      <td>505903</td>\n",
              "      <td>5567.0</td>\n",
              "    </tr>\n",
              "  </tbody>\n",
              "</table>\n",
              "<p>90 rows × 3 columns</p>\n",
              "</div>"
            ],
            "text/plain": [
              "   JEE Main Percentile JEE Main Rank   BCECE General Rank\n",
              "0                   82        215750               2143.0\n",
              "1                   80        215776               2145.0\n",
              "2                   74        312314              30000.0\n",
              "3                   71        309124               3727.0\n",
              "4                79.51        239776               2408.0\n",
              "..                 ...           ...                  ...\n",
              "85               71.76        355883               3537.0\n",
              "86          80.8987154        207442               2116.0\n",
              "87                  38        700000               6500.0\n",
              "88                  40        153264               7683.0\n",
              "89                53.9        505903               5567.0\n",
              "\n",
              "[90 rows x 3 columns]"
            ]
          },
          "metadata": {
            "tags": []
          },
          "execution_count": 8
        }
      ]
    },
    {
      "cell_type": "code",
      "metadata": {
        "id": "f8BNBzapXaN9"
      },
      "source": [
        "data['JEE Main Percentile'] = data['JEE Main Percentile'].str.replace('[^\\w\\s\\.]','')\n",
        "data['JEE Main Rank'] = data['JEE Main Rank'].str.replace('[^\\w\\s]','')\n",
        "data = data.drop(' BCECE General Rank',axis = 1)"
      ],
      "execution_count": null,
      "outputs": []
    },
    {
      "cell_type": "code",
      "metadata": {
        "id": "igKyMmmHjFnG",
        "colab": {
          "base_uri": "https://localhost:8080/"
        },
        "outputId": "1c613c51-be46-45de-bc99-186d16f04467"
      },
      "source": [
        "data = data.astype({'JEE Main Percentile' : float,'JEE Main Rank' : int})\n",
        "data.dtypes"
      ],
      "execution_count": null,
      "outputs": [
        {
          "output_type": "execute_result",
          "data": {
            "text/plain": [
              "JEE Main Percentile    float64\n",
              "JEE Main Rank            int64\n",
              "dtype: object"
            ]
          },
          "metadata": {
            "tags": []
          },
          "execution_count": 10
        }
      ]
    },
    {
      "cell_type": "code",
      "metadata": {
        "id": "vw3Klx4GkJuf",
        "colab": {
          "base_uri": "https://localhost:8080/",
          "height": 254
        },
        "outputId": "d2e88395-97f0-4c1e-82be-c9132dc665ac"
      },
      "source": [
        "data = data.round(decimals=2)\n",
        "print(data.isnull().sum())\n",
        "data.head()"
      ],
      "execution_count": null,
      "outputs": [
        {
          "output_type": "stream",
          "text": [
            "JEE Main Percentile    0\n",
            "JEE Main Rank          0\n",
            "dtype: int64\n"
          ],
          "name": "stdout"
        },
        {
          "output_type": "execute_result",
          "data": {
            "text/html": [
              "<div>\n",
              "<style scoped>\n",
              "    .dataframe tbody tr th:only-of-type {\n",
              "        vertical-align: middle;\n",
              "    }\n",
              "\n",
              "    .dataframe tbody tr th {\n",
              "        vertical-align: top;\n",
              "    }\n",
              "\n",
              "    .dataframe thead th {\n",
              "        text-align: right;\n",
              "    }\n",
              "</style>\n",
              "<table border=\"1\" class=\"dataframe\">\n",
              "  <thead>\n",
              "    <tr style=\"text-align: right;\">\n",
              "      <th></th>\n",
              "      <th>JEE Main Percentile</th>\n",
              "      <th>JEE Main Rank</th>\n",
              "    </tr>\n",
              "  </thead>\n",
              "  <tbody>\n",
              "    <tr>\n",
              "      <th>0</th>\n",
              "      <td>82.00</td>\n",
              "      <td>215750</td>\n",
              "    </tr>\n",
              "    <tr>\n",
              "      <th>1</th>\n",
              "      <td>80.00</td>\n",
              "      <td>215776</td>\n",
              "    </tr>\n",
              "    <tr>\n",
              "      <th>2</th>\n",
              "      <td>74.00</td>\n",
              "      <td>312314</td>\n",
              "    </tr>\n",
              "    <tr>\n",
              "      <th>3</th>\n",
              "      <td>71.00</td>\n",
              "      <td>309124</td>\n",
              "    </tr>\n",
              "    <tr>\n",
              "      <th>4</th>\n",
              "      <td>79.51</td>\n",
              "      <td>239776</td>\n",
              "    </tr>\n",
              "  </tbody>\n",
              "</table>\n",
              "</div>"
            ],
            "text/plain": [
              "   JEE Main Percentile  JEE Main Rank\n",
              "0                82.00         215750\n",
              "1                80.00         215776\n",
              "2                74.00         312314\n",
              "3                71.00         309124\n",
              "4                79.51         239776"
            ]
          },
          "metadata": {
            "tags": []
          },
          "execution_count": 11
        }
      ]
    },
    {
      "cell_type": "markdown",
      "metadata": {
        "id": "8cG0yiMETW1C"
      },
      "source": [
        "##**Data Processing and Model Building**"
      ]
    },
    {
      "cell_type": "code",
      "metadata": {
        "colab": {
          "base_uri": "https://localhost:8080/"
        },
        "id": "-kaJOgkFPigM",
        "outputId": "274b1499-deb5-4230-debc-a99dbb25cfeb"
      },
      "source": [
        "data_new = np.array(data)\n",
        "\n",
        "dataset = pd.DataFrame(data_new,columns = ['X','y'])\n",
        "\n",
        "X = dataset.iloc[:,:-1].values\n",
        "X = X.reshape(-1,1)\n",
        "\n",
        "y = dataset.iloc[:,1].values\n",
        "print(y)\n",
        "print(X.shape,y.shape)"
      ],
      "execution_count": null,
      "outputs": [
        {
          "output_type": "stream",
          "text": [
            "[215750. 215776. 312314. 309124. 239776. 315703. 174328. 183000. 217934.\n",
            "  25000. 165934. 195628. 204865. 336425. 220000. 137000. 447117. 175000.\n",
            " 198000.  15000. 359166. 105436. 134247.   1032. 300000. 110000. 190000.\n",
            " 200057. 201035. 241042. 234408. 548363. 312049. 270000. 250000. 226478.\n",
            " 432915. 230000. 270000. 192673. 300300. 747639. 274607. 237234. 204000.\n",
            " 256049. 260840. 212323. 204689. 185335. 215004. 268000. 469080. 200000.\n",
            " 195858. 225863. 215617. 176738. 194739. 250000. 220258. 122676. 429619.\n",
            "  23314. 452866. 160000. 428074. 243899. 339241. 154000. 213002. 158563.\n",
            " 199751. 169530. 154906. 179940. 179940. 238640. 258789. 185362. 150007.\n",
            " 190056. 399063. 158628. 198646. 355883. 207442. 700000. 153264. 505903.]\n",
            "(90, 1) (90,)\n"
          ],
          "name": "stdout"
        }
      ]
    },
    {
      "cell_type": "code",
      "metadata": {
        "id": "F98cQpQft_r4"
      },
      "source": [
        "from sklearn.model_selection import train_test_split\n",
        "X_train, X_test, y_train, y_test = train_test_split(X, y, test_size=0.3, random_state=1)"
      ],
      "execution_count": null,
      "outputs": []
    },
    {
      "cell_type": "markdown",
      "metadata": {
        "id": "OMKYd_uWwFu-"
      },
      "source": [
        "##**Linear Regression**"
      ]
    },
    {
      "cell_type": "code",
      "metadata": {
        "id": "x7CsOAwsvIfX",
        "colab": {
          "base_uri": "https://localhost:8080/"
        },
        "outputId": "6cb74ee5-e8b5-4ede-9712-7ea1ffd57ff9"
      },
      "source": [
        "from sklearn.linear_model import LinearRegression\n",
        "log_model = LinearRegression()\n",
        "log_model.fit(X_train,y_train)"
      ],
      "execution_count": null,
      "outputs": [
        {
          "output_type": "execute_result",
          "data": {
            "text/plain": [
              "LinearRegression(copy_X=True, fit_intercept=True, n_jobs=None, normalize=False)"
            ]
          },
          "metadata": {
            "tags": []
          },
          "execution_count": 14
        }
      ]
    },
    {
      "cell_type": "markdown",
      "metadata": {
        "id": "T7zplSXaT1B1"
      },
      "source": [
        "##**Model Prediction and Evaluation**"
      ]
    },
    {
      "cell_type": "code",
      "metadata": {
        "id": "tEthxtpLwZX-"
      },
      "source": [
        "predlog = log_model.predict(X_test)"
      ],
      "execution_count": null,
      "outputs": []
    },
    {
      "cell_type": "code",
      "metadata": {
        "id": "SGQDzbXY2OPV",
        "colab": {
          "base_uri": "https://localhost:8080/"
        },
        "outputId": "4bd8f27e-f95d-435a-8db7-eb089425c104"
      },
      "source": [
        "import math\n",
        "from sklearn.metrics import mean_squared_error\n",
        "Score= math.sqrt(mean_squared_error(y_test,predlog))\n",
        "print(\"RMSE :\", Score)"
      ],
      "execution_count": null,
      "outputs": [
        {
          "output_type": "stream",
          "text": [
            "RMSE : 139595.38621848912\n"
          ],
          "name": "stdout"
        }
      ]
    },
    {
      "cell_type": "code",
      "metadata": {
        "id": "T_RTON38RAAF",
        "colab": {
          "base_uri": "https://localhost:8080/",
          "height": 265
        },
        "outputId": "b68375b4-afb1-4a7a-a825-9694da9b8f5e"
      },
      "source": [
        "line = log_model.coef_*X+log_model.intercept_\n",
        "\n",
        "plt.scatter(X, y)\n",
        "plt.plot(X, line);\n",
        "plt.show()"
      ],
      "execution_count": null,
      "outputs": [
        {
          "output_type": "display_data",
          "data": {
            "image/png": "[encoded data removed]",
            "text/plain": [
              "<Figure size 432x288 with 1 Axes>"
            ]
          },
          "metadata": {
            "tags": [],
            "needs_background": "light"
          }
        }
      ]
    },
    {
      "cell_type": "markdown",
      "metadata": {
        "id": "aiR2tC8OXaet"
      },
      "source": [
        "**From above plot, we tried to put the best fit line.**"
      ]
    },
    {
      "cell_type": "markdown",
      "metadata": {
        "id": "x8lD9ZCpSn1X"
      },
      "source": [
        "##**Comparing Actual Data with Predicted Data**"
      ]
    },
    {
      "cell_type": "code",
      "metadata": {
        "id": "2cloiHxeRKSv",
        "colab": {
          "base_uri": "https://localhost:8080/",
          "height": 357
        },
        "outputId": "16a5f4ea-3b69-4ed0-be83-1ff97713ad8b"
      },
      "source": [
        "dfc = pd.DataFrame({'Actal Data' : y_test , 'Predicted Data' : predlog})\n",
        "dfc.head(10)"
      ],
      "execution_count": null,
      "outputs": [
        {
          "output_type": "execute_result",
          "data": {
            "text/html": [
              "<div>\n",
              "<style scoped>\n",
              "    .dataframe tbody tr th:only-of-type {\n",
              "        vertical-align: middle;\n",
              "    }\n",
              "\n",
              "    .dataframe tbody tr th {\n",
              "        vertical-align: top;\n",
              "    }\n",
              "\n",
              "    .dataframe thead th {\n",
              "        text-align: right;\n",
              "    }\n",
              "</style>\n",
              "<table border=\"1\" class=\"dataframe\">\n",
              "  <thead>\n",
              "    <tr style=\"text-align: right;\">\n",
              "      <th></th>\n",
              "      <th>Actal Data</th>\n",
              "      <th>Predicted Data</th>\n",
              "    </tr>\n",
              "  </thead>\n",
              "  <tbody>\n",
              "    <tr>\n",
              "      <th>0</th>\n",
              "      <td>194739.0</td>\n",
              "      <td>196962.896594</td>\n",
              "    </tr>\n",
              "    <tr>\n",
              "      <th>1</th>\n",
              "      <td>258789.0</td>\n",
              "      <td>222472.627247</td>\n",
              "    </tr>\n",
              "    <tr>\n",
              "      <th>2</th>\n",
              "      <td>237234.0</td>\n",
              "      <td>209911.998448</td>\n",
              "    </tr>\n",
              "    <tr>\n",
              "      <th>3</th>\n",
              "      <td>225863.0</td>\n",
              "      <td>215221.130208</td>\n",
              "    </tr>\n",
              "    <tr>\n",
              "      <th>4</th>\n",
              "      <td>700000.0</td>\n",
              "      <td>481843.137393</td>\n",
              "    </tr>\n",
              "    <tr>\n",
              "      <th>5</th>\n",
              "      <td>154906.0</td>\n",
              "      <td>177539.243812</td>\n",
              "    </tr>\n",
              "    <tr>\n",
              "      <th>6</th>\n",
              "      <td>220258.0</td>\n",
              "      <td>209911.998448</td>\n",
              "    </tr>\n",
              "    <tr>\n",
              "      <th>7</th>\n",
              "      <td>469080.0</td>\n",
              "      <td>328202.043889</td>\n",
              "    </tr>\n",
              "    <tr>\n",
              "      <th>8</th>\n",
              "      <td>260840.0</td>\n",
              "      <td>229659.378776</td>\n",
              "    </tr>\n",
              "    <tr>\n",
              "      <th>9</th>\n",
              "      <td>192673.0</td>\n",
              "      <td>196962.896594</td>\n",
              "    </tr>\n",
              "  </tbody>\n",
              "</table>\n",
              "</div>"
            ],
            "text/plain": [
              "   Actal Data  Predicted Data\n",
              "0    194739.0   196962.896594\n",
              "1    258789.0   222472.627247\n",
              "2    237234.0   209911.998448\n",
              "3    225863.0   215221.130208\n",
              "4    700000.0   481843.137393\n",
              "5    154906.0   177539.243812\n",
              "6    220258.0   209911.998448\n",
              "7    469080.0   328202.043889\n",
              "8    260840.0   229659.378776\n",
              "9    192673.0   196962.896594"
            ]
          },
          "metadata": {
            "tags": []
          },
          "execution_count": 18
        }
      ]
    }
  ]
}